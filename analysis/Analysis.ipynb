{
 "cells": [
  {
   "cell_type": "markdown",
   "metadata": {},
   "source": [
    "# Analysis\n",
    "\n",
    "Analysis for the OB-19 symposium paper:\n",
    "\n",
    "**Identification of occupancy patterns using opportunistic in-situ measurements in Smart Homes**\n",
    "\n",
    "**Steven Firth and Ben Halls**\n",
    "\n",
    "Presented at OB-19: 5th International Symposium on Occupant Behaviour, San Antonio, US, 13 March 2019\n"
   ]
  },
  {
   "cell_type": "markdown",
   "metadata": {},
   "source": [
    "## Set up"
   ]
  },
  {
   "cell_type": "markdown",
   "metadata": {},
   "source": [
    "### Import modules"
   ]
  },
  {
   "cell_type": "code",
   "execution_count": 108,
   "metadata": {},
   "outputs": [],
   "source": [
    "%matplotlib inline\n",
    "import config\n",
    "import pandas as pd\n",
    "import matplotlib.pyplot as plt\n",
    "import matplotlib\n",
    "import matplotlib.dates as mdates\n",
    "import os"
   ]
  },
  {
   "cell_type": "markdown",
   "metadata": {},
   "source": [
    "### Parse xml\n",
    "\n",
    "This uses the filepath given in the config.py file to parse the REFIT xml file."
   ]
  },
  {
   "cell_type": "code",
   "execution_count": 2,
   "metadata": {},
   "outputs": [
    {
     "data": {
      "text/plain": [
       "<lxml.etree._ElementTree at 0x281225eb2c8>"
      ]
     },
     "execution_count": 2,
     "metadata": {},
     "output_type": "execute_result"
    }
   ],
   "source": [
    "from lxml import etree\n",
    "tree=etree.parse(config.refit_building_survey)\n",
    "NS={'a':'http://www.refitsmarthomes.org'}\n",
    "tree"
   ]
  },
  {
   "cell_type": "markdown",
   "metadata": {},
   "source": [
    "### Parse csv\n",
    "\n",
    "This uses the filepath given in the config.py file to parse the REFIT csv file."
   ]
  },
  {
   "cell_type": "code",
   "execution_count": 114,
   "metadata": {},
   "outputs": [
    {
     "name": "stdout",
     "output_type": "stream",
     "text": [
      "<class 'pandas.core.frame.DataFrame'>\n",
      "RangeIndex: 25312397 entries, 0 to 25312396\n",
      "Data columns (total 3 columns):\n",
      "TimeSeriesVariable/@id    object\n",
      "dateTime                  object\n",
      "data                      float64\n",
      "dtypes: float64(1), object(2)\n",
      "memory usage: 579.4+ MB\n"
     ]
    }
   ],
   "source": [
    "csv=pd.read_csv(config.refit_time_series_values)\n",
    "csv.info()"
   ]
  },
  {
   "cell_type": "code",
   "execution_count": 4,
   "metadata": {},
   "outputs": [
    {
     "data": {
      "text/html": [
       "<div>\n",
       "<style scoped>\n",
       "    .dataframe tbody tr th:only-of-type {\n",
       "        vertical-align: middle;\n",
       "    }\n",
       "\n",
       "    .dataframe tbody tr th {\n",
       "        vertical-align: top;\n",
       "    }\n",
       "\n",
       "    .dataframe thead th {\n",
       "        text-align: right;\n",
       "    }\n",
       "</style>\n",
       "<table border=\"1\" class=\"dataframe\">\n",
       "  <thead>\n",
       "    <tr style=\"text-align: right;\">\n",
       "      <th></th>\n",
       "      <th>TimeSeriesVariable/@id</th>\n",
       "      <th>dateTime</th>\n",
       "      <th>data</th>\n",
       "    </tr>\n",
       "  </thead>\n",
       "  <tbody>\n",
       "    <tr>\n",
       "      <th>0</th>\n",
       "      <td>TimeSeriesVariable1</td>\n",
       "      <td>2013-10-02T05:00:00Z</td>\n",
       "      <td>17.772</td>\n",
       "    </tr>\n",
       "    <tr>\n",
       "      <th>1</th>\n",
       "      <td>TimeSeriesVariable1</td>\n",
       "      <td>2013-10-02T05:30:00Z</td>\n",
       "      <td>18.081</td>\n",
       "    </tr>\n",
       "    <tr>\n",
       "      <th>2</th>\n",
       "      <td>TimeSeriesVariable1</td>\n",
       "      <td>2013-10-02T06:00:00Z</td>\n",
       "      <td>18.176</td>\n",
       "    </tr>\n",
       "    <tr>\n",
       "      <th>3</th>\n",
       "      <td>TimeSeriesVariable1</td>\n",
       "      <td>2013-10-02T06:30:00Z</td>\n",
       "      <td>18.176</td>\n",
       "    </tr>\n",
       "    <tr>\n",
       "      <th>4</th>\n",
       "      <td>TimeSeriesVariable1</td>\n",
       "      <td>2013-10-02T07:00:00Z</td>\n",
       "      <td>18.105</td>\n",
       "    </tr>\n",
       "  </tbody>\n",
       "</table>\n",
       "</div>"
      ],
      "text/plain": [
       "  TimeSeriesVariable/@id              dateTime    data\n",
       "0    TimeSeriesVariable1  2013-10-02T05:00:00Z  17.772\n",
       "1    TimeSeriesVariable1  2013-10-02T05:30:00Z  18.081\n",
       "2    TimeSeriesVariable1  2013-10-02T06:00:00Z  18.176\n",
       "3    TimeSeriesVariable1  2013-10-02T06:30:00Z  18.176\n",
       "4    TimeSeriesVariable1  2013-10-02T07:00:00Z  18.105"
      ]
     },
     "execution_count": 4,
     "metadata": {},
     "output_type": "execute_result"
    }
   ],
   "source": [
    "csv.head()"
   ]
  },
  {
   "cell_type": "markdown",
   "metadata": {},
   "source": [
    "## Figure 1 - Motion detection for Building 1 on 7th Jan 2015"
   ]
  },
  {
   "cell_type": "markdown",
   "metadata": {},
   "source": [
    "### Find the Space elements in Building 1"
   ]
  },
  {
   "cell_type": "code",
   "execution_count": 91,
   "metadata": {},
   "outputs": [
    {
     "name": "stdout",
     "output_type": "stream",
     "text": [
      "number of spaces 19\n",
      "['Study', 'Hallway', 'Stairs', 'Cloakroom', 'WC', 'Kitchen', 'Utility room', 'Conservatory', 'Living room', 'Bedroom', 'Stairs', 'Landing', 'Bathroom', 'Bedroom', 'Bedroom', 'Ensuite', 'Bedroom', 'Hot water tank', 'Loft']\n"
     ]
    }
   ],
   "source": [
    "spaces=tree.xpath('/a:RefitXML/a:Stock/a:Building[@id=\"Building01\"]/a:Space',namespaces=NS)\n",
    "spaces=spaces[:-1] #remove the 'wall' space as it's not room in the building\n",
    "print('number of spaces',len(spaces))\n",
    "print([space.get('roomType') for space in spaces])"
   ]
  },
  {
   "cell_type": "markdown",
   "metadata": {},
   "source": [
    "### Find the TimeSeriesVariable elements of the spaces\n",
    "\n",
    "These are stored in a dictionary with {space_element,[timeseriesvariable_element]}"
   ]
  },
  {
   "cell_type": "code",
   "execution_count": 97,
   "metadata": {},
   "outputs": [
    {
     "data": {
      "text/plain": [
       "[('Study', []),\n",
       " ('Hallway', ['TimeSeriesVariable2193']),\n",
       " ('Stairs', []),\n",
       " ('Cloakroom', []),\n",
       " ('WC', []),\n",
       " ('Kitchen', ['TimeSeriesVariable2190']),\n",
       " ('Utility room', ['TimeSeriesVariable2097']),\n",
       " ('Conservatory', ['TimeSeriesVariable2191']),\n",
       " ('Living room', ['TimeSeriesVariable2192']),\n",
       " ('Bedroom', []),\n",
       " ('Stairs', []),\n",
       " ('Landing', []),\n",
       " ('Bathroom', []),\n",
       " ('Bedroom', []),\n",
       " ('Bedroom', []),\n",
       " ('Ensuite', []),\n",
       " ('Bedroom', []),\n",
       " ('Hot water tank', []),\n",
       " ('Loft', [])]"
      ]
     },
     "execution_count": 97,
     "metadata": {},
     "output_type": "execute_result"
    }
   ],
   "source": [
    "st='.//a:TimeSeriesVariable[@variableType=\"Motion\"]'\n",
    "d={s:s.xpath(st,namespaces=NS) for s in spaces}\n",
    "[(s.get('roomType'),[tsv.get('id') for tsv in tsvs]) for s,tsvs in d.items()]"
   ]
  },
  {
   "cell_type": "markdown",
   "metadata": {},
   "source": [
    "### Get all tsv ids"
   ]
  },
  {
   "cell_type": "code",
   "execution_count": 100,
   "metadata": {},
   "outputs": [
    {
     "name": "stdout",
     "output_type": "stream",
     "text": [
      "['TimeSeriesVariable2193', 'TimeSeriesVariable2190', 'TimeSeriesVariable2097', 'TimeSeriesVariable2191', 'TimeSeriesVariable2192']\n"
     ]
    }
   ],
   "source": [
    "tsvs=[]\n",
    "for x in d.values(): tsvs+=x\n",
    "tsv_ids=[tsv.get('id') for tsv in tsvs]\n",
    "print(tsv_ids)"
   ]
  },
  {
   "cell_type": "markdown",
   "metadata": {},
   "source": [
    "### Filter csv data\n",
    "\n",
    "Creates a new DataFrame 'df' which is the csv data filtered by the motion tsv ids and for 7th January 2015 only. Places the datetime column as the index of this new dataframe and converts all motion detection data values to 1."
   ]
  },
  {
   "cell_type": "code",
   "execution_count": 103,
   "metadata": {},
   "outputs": [
    {
     "name": "stdout",
     "output_type": "stream",
     "text": [
      "length of new dataframe 305\n"
     ]
    },
    {
     "data": {
      "text/html": [
       "<div>\n",
       "<style scoped>\n",
       "    .dataframe tbody tr th:only-of-type {\n",
       "        vertical-align: middle;\n",
       "    }\n",
       "\n",
       "    .dataframe tbody tr th {\n",
       "        vertical-align: top;\n",
       "    }\n",
       "\n",
       "    .dataframe thead th {\n",
       "        text-align: right;\n",
       "    }\n",
       "</style>\n",
       "<table border=\"1\" class=\"dataframe\">\n",
       "  <thead>\n",
       "    <tr style=\"text-align: right;\">\n",
       "      <th></th>\n",
       "      <th>TimeSeriesVariable/@id</th>\n",
       "      <th>data</th>\n",
       "    </tr>\n",
       "    <tr>\n",
       "      <th>dateTime</th>\n",
       "      <th></th>\n",
       "      <th></th>\n",
       "    </tr>\n",
       "  </thead>\n",
       "  <tbody>\n",
       "    <tr>\n",
       "      <th>2015-01-07 08:04:00</th>\n",
       "      <td>TimeSeriesVariable2097</td>\n",
       "      <td>1.0</td>\n",
       "    </tr>\n",
       "    <tr>\n",
       "      <th>2015-01-07 08:05:00</th>\n",
       "      <td>TimeSeriesVariable2097</td>\n",
       "      <td>1.0</td>\n",
       "    </tr>\n",
       "    <tr>\n",
       "      <th>2015-01-07 08:05:00</th>\n",
       "      <td>TimeSeriesVariable2097</td>\n",
       "      <td>1.0</td>\n",
       "    </tr>\n",
       "    <tr>\n",
       "      <th>2015-01-07 08:06:00</th>\n",
       "      <td>TimeSeriesVariable2097</td>\n",
       "      <td>1.0</td>\n",
       "    </tr>\n",
       "    <tr>\n",
       "      <th>2015-01-07 08:09:00</th>\n",
       "      <td>TimeSeriesVariable2097</td>\n",
       "      <td>1.0</td>\n",
       "    </tr>\n",
       "  </tbody>\n",
       "</table>\n",
       "</div>"
      ],
      "text/plain": [
       "                     TimeSeriesVariable/@id  data\n",
       "dateTime                                         \n",
       "2015-01-07 08:04:00  TimeSeriesVariable2097   1.0\n",
       "2015-01-07 08:05:00  TimeSeriesVariable2097   1.0\n",
       "2015-01-07 08:05:00  TimeSeriesVariable2097   1.0\n",
       "2015-01-07 08:06:00  TimeSeriesVariable2097   1.0\n",
       "2015-01-07 08:09:00  TimeSeriesVariable2097   1.0"
      ]
     },
     "execution_count": 103,
     "metadata": {},
     "output_type": "execute_result"
    }
   ],
   "source": [
    "df=csv[csv['TimeSeriesVariable/@id'].isin(tsv_ids)].copy()\n",
    "df['dateTime']=pd.to_datetime(df['dateTime'])\n",
    "df=df.set_index('dateTime')\n",
    "df=df[df.index>pd.Timestamp('2015-01-07')]\n",
    "df=df[df.index<pd.Timestamp('2015-01-08')]\n",
    "df.loc[df['data'].isin([-10003,-10004]),'data']=1\n",
    "print('length of new dataframe',len(df))\n",
    "df.head()"
   ]
  },
  {
   "cell_type": "markdown",
   "metadata": {},
   "source": [
    "## Plot figure"
   ]
  },
  {
   "cell_type": "code",
   "execution_count": 148,
   "metadata": {},
   "outputs": [
    {
     "data": {
      "image/png": "[encoded data removed]",
      "text/plain": [
       "<Figure size 1152x504 with 1 Axes>"
      ]
     },
     "metadata": {
      "needs_background": "light"
     },
     "output_type": "display_data"
    }
   ],
   "source": [
    "def plot_motion_data():\n",
    "    for i,(s,tsv) in enumerate(d.items()):\n",
    "        if tsv:\n",
    "            df1=df[df['TimeSeriesVariable/@id']==tsv[0].get('id')].copy()\n",
    "            df1['data']=i\n",
    "            ax.plot(df1['data'],'o')\n",
    "    #title\n",
    "    ax.set_title('MOTION DETECTION -- Building 1: 7th January 2015', fontsize=20)\n",
    "    #x-axis\n",
    "    ax.set_xlabel('Time of day',fontsize=20)\n",
    "    ax.set_xlim(pd.Timestamp('2015-01-07'),pd.Timestamp('2015-01-08'))\n",
    "    myFmt = mdates.DateFormatter('%H:%M')\n",
    "    ax.xaxis.set_major_formatter(myFmt)\n",
    "    ax.tick_params(axis='x', labelsize=15)\n",
    "    #y-axis\n",
    "    ax.set_ylabel('Room',fontsize=20)\n",
    "    ax.set_ylim(0,18)\n",
    "    ax.set_yticks(range(-1,20))\n",
    "    ax.set_yticklabels(['']+[space.get('roomType') for space in spaces]+[''],fontsize=15)    \n",
    "fig, ax = plt.subplots(figsize=(16, 7))  \n",
    "plot_motion_data()\n",
    "fig.savefig('Figure_1.png',bbox_inches='tight', pad_inches=0.25)\n",
    "plt.show()"
   ]
  },
  {
   "cell_type": "markdown",
   "metadata": {},
   "source": [
    "## Figure 2 - Motion detection and Smart Meter data for Building 1 on 7th Jan 2015"
   ]
  },
  {
   "cell_type": "markdown",
   "metadata": {},
   "source": [
    "## Get electricity data for building 1"
   ]
  },
  {
   "cell_type": "code",
   "execution_count": 112,
   "metadata": {},
   "outputs": [
    {
     "name": "stdout",
     "output_type": "stream",
     "text": [
      "<class 'pandas.core.frame.DataFrame'>\n",
      "RangeIndex: 6960008 entries, 0 to 6960007\n",
      "Data columns (total 12 columns):\n",
      "Time          object\n",
      "Unix          int64\n",
      "Aggregate     int64\n",
      "Appliance1    int64\n",
      "Appliance2    int64\n",
      "Appliance3    int64\n",
      "Appliance4    int64\n",
      "Appliance5    int64\n",
      "Appliance6    int64\n",
      "Appliance7    int64\n",
      "Appliance8    int64\n",
      "Appliance9    int64\n",
      "dtypes: int64(11), object(1)\n",
      "memory usage: 637.2+ MB\n"
     ]
    }
   ],
   "source": [
    "csv_elec=pd.read_csv(os.path.join(config.refit_electrical_measurements_folder,'House_1.csv'))\n",
    "csv_elec.info()"
   ]
  },
  {
   "cell_type": "code",
   "execution_count": 113,
   "metadata": {},
   "outputs": [
    {
     "data": {
      "text/html": [
       "<div>\n",
       "<style scoped>\n",
       "    .dataframe tbody tr th:only-of-type {\n",
       "        vertical-align: middle;\n",
       "    }\n",
       "\n",
       "    .dataframe tbody tr th {\n",
       "        vertical-align: top;\n",
       "    }\n",
       "\n",
       "    .dataframe thead th {\n",
       "        text-align: right;\n",
       "    }\n",
       "</style>\n",
       "<table border=\"1\" class=\"dataframe\">\n",
       "  <thead>\n",
       "    <tr style=\"text-align: right;\">\n",
       "      <th></th>\n",
       "      <th>Time</th>\n",
       "      <th>Unix</th>\n",
       "      <th>Aggregate</th>\n",
       "      <th>Appliance1</th>\n",
       "      <th>Appliance2</th>\n",
       "      <th>Appliance3</th>\n",
       "      <th>Appliance4</th>\n",
       "      <th>Appliance5</th>\n",
       "      <th>Appliance6</th>\n",
       "      <th>Appliance7</th>\n",
       "      <th>Appliance8</th>\n",
       "      <th>Appliance9</th>\n",
       "    </tr>\n",
       "  </thead>\n",
       "  <tbody>\n",
       "    <tr>\n",
       "      <th>0</th>\n",
       "      <td>2013-10-09 13:06:17</td>\n",
       "      <td>1381323977</td>\n",
       "      <td>523</td>\n",
       "      <td>74</td>\n",
       "      <td>0</td>\n",
       "      <td>69</td>\n",
       "      <td>0</td>\n",
       "      <td>0</td>\n",
       "      <td>0</td>\n",
       "      <td>0</td>\n",
       "      <td>0</td>\n",
       "      <td>1</td>\n",
       "    </tr>\n",
       "    <tr>\n",
       "      <th>1</th>\n",
       "      <td>2013-10-09 13:06:31</td>\n",
       "      <td>1381323991</td>\n",
       "      <td>526</td>\n",
       "      <td>75</td>\n",
       "      <td>0</td>\n",
       "      <td>69</td>\n",
       "      <td>0</td>\n",
       "      <td>0</td>\n",
       "      <td>0</td>\n",
       "      <td>0</td>\n",
       "      <td>0</td>\n",
       "      <td>1</td>\n",
       "    </tr>\n",
       "    <tr>\n",
       "      <th>2</th>\n",
       "      <td>2013-10-09 13:06:46</td>\n",
       "      <td>1381324006</td>\n",
       "      <td>540</td>\n",
       "      <td>74</td>\n",
       "      <td>0</td>\n",
       "      <td>68</td>\n",
       "      <td>0</td>\n",
       "      <td>0</td>\n",
       "      <td>0</td>\n",
       "      <td>0</td>\n",
       "      <td>0</td>\n",
       "      <td>1</td>\n",
       "    </tr>\n",
       "    <tr>\n",
       "      <th>3</th>\n",
       "      <td>2013-10-09 13:07:01</td>\n",
       "      <td>1381324021</td>\n",
       "      <td>532</td>\n",
       "      <td>74</td>\n",
       "      <td>0</td>\n",
       "      <td>68</td>\n",
       "      <td>0</td>\n",
       "      <td>0</td>\n",
       "      <td>0</td>\n",
       "      <td>0</td>\n",
       "      <td>0</td>\n",
       "      <td>1</td>\n",
       "    </tr>\n",
       "    <tr>\n",
       "      <th>4</th>\n",
       "      <td>2013-10-09 13:07:15</td>\n",
       "      <td>1381324035</td>\n",
       "      <td>540</td>\n",
       "      <td>74</td>\n",
       "      <td>0</td>\n",
       "      <td>69</td>\n",
       "      <td>0</td>\n",
       "      <td>0</td>\n",
       "      <td>0</td>\n",
       "      <td>0</td>\n",
       "      <td>0</td>\n",
       "      <td>1</td>\n",
       "    </tr>\n",
       "  </tbody>\n",
       "</table>\n",
       "</div>"
      ],
      "text/plain": [
       "                  Time        Unix  Aggregate  Appliance1  Appliance2  \\\n",
       "0  2013-10-09 13:06:17  1381323977        523          74           0   \n",
       "1  2013-10-09 13:06:31  1381323991        526          75           0   \n",
       "2  2013-10-09 13:06:46  1381324006        540          74           0   \n",
       "3  2013-10-09 13:07:01  1381324021        532          74           0   \n",
       "4  2013-10-09 13:07:15  1381324035        540          74           0   \n",
       "\n",
       "   Appliance3  Appliance4  Appliance5  Appliance6  Appliance7  Appliance8  \\\n",
       "0          69           0           0           0           0           0   \n",
       "1          69           0           0           0           0           0   \n",
       "2          68           0           0           0           0           0   \n",
       "3          68           0           0           0           0           0   \n",
       "4          69           0           0           0           0           0   \n",
       "\n",
       "   Appliance9  \n",
       "0           1  \n",
       "1           1  \n",
       "2           1  \n",
       "3           1  \n",
       "4           1  "
      ]
     },
     "execution_count": 113,
     "metadata": {},
     "output_type": "execute_result"
    }
   ],
   "source": [
    "csv_elec.head()"
   ]
  },
  {
   "cell_type": "markdown",
   "metadata": {},
   "source": [
    "### Filter electricity data\n",
    "\n",
    "Creates a new DataFrame 'df' which is the csv data filtered by the motion tsv ids and for 7th January 2015 only. Places the datetime column as the index of this new dataframe and converts all motion detection data values to 1."
   ]
  },
  {
   "cell_type": "code",
   "execution_count": 122,
   "metadata": {},
   "outputs": [
    {
     "name": "stdout",
     "output_type": "stream",
     "text": [
      "length of new dataframe 12593\n"
     ]
    },
    {
     "data": {
      "text/html": [
       "<div>\n",
       "<style scoped>\n",
       "    .dataframe tbody tr th:only-of-type {\n",
       "        vertical-align: middle;\n",
       "    }\n",
       "\n",
       "    .dataframe tbody tr th {\n",
       "        vertical-align: top;\n",
       "    }\n",
       "\n",
       "    .dataframe thead th {\n",
       "        text-align: right;\n",
       "    }\n",
       "</style>\n",
       "<table border=\"1\" class=\"dataframe\">\n",
       "  <thead>\n",
       "    <tr style=\"text-align: right;\">\n",
       "      <th></th>\n",
       "      <th>Aggregate</th>\n",
       "    </tr>\n",
       "    <tr>\n",
       "      <th>Time</th>\n",
       "      <th></th>\n",
       "    </tr>\n",
       "  </thead>\n",
       "  <tbody>\n",
       "    <tr>\n",
       "      <th>2015-01-07 00:00:03</th>\n",
       "      <td>342</td>\n",
       "    </tr>\n",
       "    <tr>\n",
       "      <th>2015-01-07 00:00:10</th>\n",
       "      <td>348</td>\n",
       "    </tr>\n",
       "    <tr>\n",
       "      <th>2015-01-07 00:00:16</th>\n",
       "      <td>347</td>\n",
       "    </tr>\n",
       "    <tr>\n",
       "      <th>2015-01-07 00:00:23</th>\n",
       "      <td>317</td>\n",
       "    </tr>\n",
       "    <tr>\n",
       "      <th>2015-01-07 00:00:30</th>\n",
       "      <td>322</td>\n",
       "    </tr>\n",
       "  </tbody>\n",
       "</table>\n",
       "</div>"
      ],
      "text/plain": [
       "                     Aggregate\n",
       "Time                          \n",
       "2015-01-07 00:00:03        342\n",
       "2015-01-07 00:00:10        348\n",
       "2015-01-07 00:00:16        347\n",
       "2015-01-07 00:00:23        317\n",
       "2015-01-07 00:00:30        322"
      ]
     },
     "execution_count": 122,
     "metadata": {},
     "output_type": "execute_result"
    }
   ],
   "source": [
    "df_elec=csv_elec[['Time','Aggregate']].copy()\n",
    "df_elec['Time']=pd.to_datetime(df_elec['Time'])\n",
    "df_elec=df_elec.set_index('Time')\n",
    "df_elec=df_elec[df_elec.index>pd.Timestamp('2015-01-07')]\n",
    "df_elec=df_elec[df_elec.index<pd.Timestamp('2015-01-08')]\n",
    "print('length of new dataframe',len(df_elec))\n",
    "df_elec.head()"
   ]
  },
  {
   "cell_type": "markdown",
   "metadata": {},
   "source": [
    "## Plot figure"
   ]
  },
  {
   "cell_type": "code",
   "execution_count": 149,
   "metadata": {},
   "outputs": [
    {
     "data": {
      "image/png": "[encoded data removed]",
      "text/plain": [
       "<Figure size 1152x504 with 2 Axes>"
      ]
     },
     "metadata": {
      "needs_background": "light"
     },
     "output_type": "display_data"
    }
   ],
   "source": [
    "fig, ax = plt.subplots(figsize=(16, 7))  \n",
    "plot_motion_data()\n",
    "ax2 = ax.twinx()\n",
    "ax2.plot(df_elec['Aggregate'],label='Electricity')\n",
    "ax2.set_ylabel('Power (W)',fontsize=20)\n",
    "ax2.tick_params(axis='y', labelsize=15)\n",
    "ax2.legend(fontsize=15)\n",
    "ax2.set_xlim(pd.Timestamp('2015-01-07'),pd.Timestamp('2015-01-08'))\n",
    "myFmt = mdates.DateFormatter('%H:%M')\n",
    "ax2.xaxis.set_major_formatter(myFmt)\n",
    "fig.savefig('Figure_2.png',bbox_inches='tight', pad_inches=0.25)\n",
    "plt.show()"
   ]
  },
  {
   "cell_type": "code",
   "execution_count": null,
   "metadata": {},
   "outputs": [],
   "source": []
  },
  {
   "cell_type": "code",
   "execution_count": null,
   "metadata": {},
   "outputs": [],
   "source": []
  }
 ],
 "metadata": {
  "kernelspec": {
   "display_name": "Python 3",
   "language": "python",
   "name": "python3"
  },
  "language_info": {
   "codemirror_mode": {
    "name": "ipython",
    "version": 3
   },
   "file_extension": ".py",
   "mimetype": "text/x-python",
   "name": "python",
   "nbconvert_exporter": "python",
   "pygments_lexer": "ipython3",
   "version": "3.7.1"
  }
 },
 "nbformat": 4,
 "nbformat_minor": 2
}
